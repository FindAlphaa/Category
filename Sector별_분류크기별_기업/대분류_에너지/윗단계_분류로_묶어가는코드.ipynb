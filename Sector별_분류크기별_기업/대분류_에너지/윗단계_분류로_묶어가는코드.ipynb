{
 "cells": [
  {
   "cell_type": "markdown",
   "metadata": {},
   "source": [
    "# description과 리프노드분류로 분류한 정보가 있는 파일 "
   ]
  },
  {
   "cell_type": "code",
   "execution_count": 40,
   "metadata": {},
   "outputs": [
    {
     "data": {
      "text/plain": [
       "{'가스': ['GS', '대성산업', 'SK디스커버리', '에코바이오', '중앙에너비스', '한국쉘석유'],\n",
       " '에너지': ['GS',\n",
       "  'SK이노베이션',\n",
       "  '대성산업',\n",
       "  'DGP',\n",
       "  '스페코',\n",
       "  '에스에너지',\n",
       "  '제이씨케미칼',\n",
       "  '금양그린파워',\n",
       "  '에스아이리소스',\n",
       "  '파루',\n",
       "  'SDN',\n",
       "  '바이온',\n",
       "  '비에이치아이',\n",
       "  '윌링스',\n",
       "  '에코바이오',\n",
       "  '대명에너지',\n",
       "  '중앙에너비스',\n",
       "  'SGC에너지',\n",
       "  '수산인더스트리',\n",
       "  '이아이디',\n",
       "  '한국쉘석유',\n",
       "  '지오릿에너지'],\n",
       " '석유': ['SK이노베이션', '극동유화', '대성산업', '흥구석유', 'S-Oil', '중앙에너비스', '한국쉘석유'],\n",
       " '생산': ['SK이노베이션',\n",
       "  '극동유화',\n",
       "  '대성산업',\n",
       "  'DGP',\n",
       "  '제이씨케미칼',\n",
       "  'HD현대에너지솔루션',\n",
       "  'SK디스커버리',\n",
       "  '서남',\n",
       "  '씨에스윈드',\n",
       "  '오르비텍',\n",
       "  '유니슨',\n",
       "  '태웅',\n",
       "  'SGC에너지',\n",
       "  '한국쉘석유'],\n",
       " '저장': ['DGP'],\n",
       " '에너지 장비': ['스페코', '에스에너지', 'HD현대에너지솔루션', '수산인더스트리'],\n",
       " '정제': ['HD현대', 'S-Oil'],\n",
       " '전기 생산': ['대성에너지', '지역난방공사', '한진중공업홀딩스', '한전산업', '한전KPS'],\n",
       " '전기 배급': ['대성에너지', '지역난방공사', '한진중공업홀딩스', '한전산업', '한전KPS'],\n",
       " '가스 제조': ['대성에너지',\n",
       "  'SK가스',\n",
       "  'E1',\n",
       "  '한진중공업홀딩스',\n",
       "  '대성홀딩스',\n",
       "  '인천도시가스',\n",
       "  '경동도시가스',\n",
       "  '삼천리',\n",
       "  '한국가스공사',\n",
       "  '지에스이'],\n",
       " '가스 배급': ['대성에너지',\n",
       "  'SK가스',\n",
       "  'E1',\n",
       "  '한진중공업홀딩스',\n",
       "  '대성홀딩스',\n",
       "  '인천도시가스',\n",
       "  '경동도시가스',\n",
       "  '삼천리',\n",
       "  '한국가스공사',\n",
       "  '지에스이'],\n",
       " '에너지 거래': ['대성에너지', 'SK가스', '지역난방공사', '삼천리', '한전산업', '한전KPS', '한국가스공사'],\n",
       " '독립 전력 생산': ['지역난방공사', '한전KPS'],\n",
       " '유틸리티': ['한전기술'],\n",
       " '복합 공익 사업체': ['삼천리']}"
      ]
     },
     "execution_count": 40,
     "metadata": {},
     "output_type": "execute_result"
    }
   ],
   "source": [
    "import pandas as pd\n",
    "data = pd.read_csv(\"에너지_개요_리프.csv\", encoding='cp949')\n",
    "\n",
    "# 새로운 딕셔너리 생성\n",
    "new_classification_dict = {}\n",
    "\n",
    "for _, row in data.iterrows():\n",
    "    # 각 sub_classfication 값을 쉼표로 분리\n",
    "    for category in row['sub_classfication'].split(', '):\n",
    "        companies = new_classification_dict.get(category, [])\n",
    "        if row['Company'] not in companies:\n",
    "            companies.append(row['Company'])\n",
    "        new_classification_dict[category] = companies\n",
    "\n",
    "new_classification_dict"
   ]
  },
  {
   "cell_type": "markdown",
   "metadata": {},
   "source": [
    "# 리프노드_기업들로 csv 파일 저장코드"
   ]
  },
  {
   "cell_type": "code",
   "execution_count": 4,
   "metadata": {},
   "outputs": [
    {
     "data": {
      "text/plain": [
       "'에너지_리프노드_기업들.csv'"
      ]
     },
     "execution_count": 4,
     "metadata": {},
     "output_type": "execute_result"
    }
   ],
   "source": [
    "# 딕셔너리를 데이터프레임으로 변환\n",
    "classification_df = pd.DataFrame(dict([(k, pd.Series(v)) for k, v in new_classification_dict.items()]))\n",
    "\n",
    "# 데이터프레임을 CSV 파일로 저장\n",
    "classification_csv_path = '에너지_리프노드_기업들.csv'\n",
    "classification_df.to_csv(classification_csv_path, encoding='cp949', index=False)\n",
    "\n",
    "classification_csv_path"
   ]
  },
  {
   "cell_type": "markdown",
   "metadata": {},
   "source": [
    "# 리프노드 -> 소분류"
   ]
  },
  {
   "cell_type": "code",
   "execution_count": 27,
   "metadata": {},
   "outputs": [
    {
     "name": "stdout",
     "output_type": "stream",
     "text": [
      "{'가스': ['GS', '대성산업', 'SK디스커버리', '에코바이오', '중앙에너비스', '한국쉘석유'], '에너지': ['GS', 'SK이노베이션', '대성산업', 'DGP', '스페코', '에스에너지', '제이씨케미칼', '금양그린파워', '에스아이리소스', '파루', 'SDN', '바이온', '비에이치아이', '윌링스', '에코바이오', '대명에너지', '중앙에너비스', 'SGC에너지', '수산인더스트리', '이아이디', '한국쉘석유', '지오릿에너지'], '석유': ['SK이노베이션', '극동유화', '대성산업', '흥구석유', 'S-Oil', '중앙에너비스', '한국쉘석유'], '생산': ['SK이노베이션', '극동유화', '대성산업', 'DGP', '제이씨케미칼', 'HD현대에너지솔루션', 'SK디스커버리', '서남', '씨에스윈드', '오르비텍', '유니슨', '태웅', 'SGC에너지', '한국쉘석유'], '저장': ['DGP'], '에너지 장비': ['스페코', '에스에너지', 'HD현대에너지솔루션', '수산인더스트리'], '정제': ['HD현대', 'S-Oil'], '전기 생산': ['대성에너지', '지역난방공사', '한진중공업홀딩스', '한전산업', '한전KPS'], '전기 배급': ['대성에너지', '지역난방공사', '한진중공업홀딩스', '한전산업', '한전KPS'], '가스 제조': ['대성에너지', 'SK가스', 'E1', '한진중공업홀딩스', '대성홀딩스', '인천도시가스', '경동도시가스', '삼천리', '한국가스공사', '지에스이'], '가스 배급': ['대성에너지', 'SK가스', 'E1', '한진중공업홀딩스', '대성홀딩스', '인천도시가스', '경동도시가스', '삼천리', '한국가스공사', '지에스이'], '에너지 거래': ['대성에너지', 'SK가스', '지역난방공사', '삼천리', '한전산업', '한전KPS', '한국가스공사'], '독립 전력 생산': ['지역난방공사', '한전KPS'], '유틸리티': ['한전기술'], '복합 공익 사업체': ['삼천리']}\n"
     ]
    }
   ],
   "source": [
    "# 소소분류 기업들\n",
    "import pandas as pd\n",
    "\n",
    "# CSV 파일을 읽는다\n",
    "df = pd.read_csv(\"에너지_리프노드_기업들.csv\", encoding='cp949')\n",
    "\n",
    "# DataFrame을 딕셔너리로 변환한다\n",
    "result_dict = {}\n",
    "for column in df.columns:\n",
    "    # NaN 값은 무시한다\n",
    "    result_dict[column] = df[column].dropna().tolist()\n",
    "\n",
    "print(result_dict)\n"
   ]
  },
  {
   "cell_type": "code",
   "execution_count": 29,
   "metadata": {},
   "outputs": [],
   "source": [
    "classification = {\n",
    "    '에너지 장비': ['에너지 장비'],\n",
    "    '종합 석유 및 가스': ['석유', '가스'],\n",
    "    '석유와 가스 탐사 및 생산': ['탐사', '생산'],\n",
    "    '석유와 가스 정제 및 마케팅': ['정제', '마케팅'],\n",
    "    '석유와 가스 저장 및 수송': ['저장', '수송'],\n",
    "    '석탄 및 소모 연료': ['석탄', '소모연료'],\n",
    "    '에너지': ['에너지'],\n",
    "    '전기 생산' : ['전기 생산'],\n",
    "    '전기 배급' : ['전기 배급'],\n",
    "    '가스 제조' : ['가스 배급'],\n",
    "    '복합 공익 사업체' : ['복합 공익 사업체'],\n",
    "    '독립 전력 생산' : ['독립 전력 생산'],\n",
    "    '에너지 거래' : ['에너지 거래'],\n",
    "    '유틸리티' : ['유틸리티']\n",
    "\n",
    "}"
   ]
  },
  {
   "cell_type": "code",
   "execution_count": 31,
   "metadata": {},
   "outputs": [],
   "source": [
    "# 소소분류 -> 소분류\n",
    "new_classification_companies = {}\n",
    "\n",
    "for new_category, old_categories in classification.items():\n",
    "    new_classification_companies[new_category] = []\n",
    "    \n",
    "    for old_category in old_categories:\n",
    "        if old_category in result_dict:\n",
    "            new_classification_companies[new_category].extend(result_dict[old_category])\n",
    "            \n",
    "    # 중복된 기업명 제거\n",
    "    new_classification_companies[new_category] = list(set(new_classification_companies[new_category]))\n",
    "\n",
    "# 새로운 분류로 DataFrame을 생성하고 CSV로 저장한다\n",
    "df_new_classified = pd.DataFrame.from_dict(new_classification_companies, orient='index').transpose()\n",
    "df_new_classified.to_csv('에너지_소분류_기업들.csv', index=False, encoding='cp949')\n",
    "\n"
   ]
  },
  {
   "cell_type": "markdown",
   "metadata": {},
   "source": [
    "# 소분류 -> 중분류"
   ]
  },
  {
   "cell_type": "code",
   "execution_count": 32,
   "metadata": {},
   "outputs": [
    {
     "name": "stdout",
     "output_type": "stream",
     "text": [
      "{'에너지 장비': ['에스에너지', '스페코', 'HD현대에너지솔루션', '수산인더스트리'], '종합 석유 및 가스': ['SK이노베이션', '중앙에너비스', 'SK디스커버리', '흥구석유', '한국쉘석유', '에코바이오', '대성산업', '극동유화', 'S-Oil', 'GS'], '석유와 가스 탐사 및 생산': ['제이씨케미칼', 'DGP', 'SK이노베이션', '서남', '오르비텍', '씨에스윈드', 'SK디스커버리', 'SGC에너지', '한국쉘석유', '태웅', '유니슨', '대성산업', '극동유화', 'HD현대에너지솔루션'], '석유와 가스 정제 및 마케팅': ['HD현대', 'S-Oil'], '석유와 가스 저장 및 수송': ['DGP'], '석탄 및 소모 연료': [], '에너지': ['윌링스', '중앙에너비스', '바이온', 'SDN', '금양그린파워', '지오릿에너지', 'DGP', 'SGC에너지', '한국쉘석유', '에스아이리소스', '대성산업', '대명에너지', '파루', '제이씨케미칼', '비에이치아이', '이아이디', 'SK이노베이션', 'GS', '스페코', '에스에너지', '에코바이오', '수산인더스트리'], '전기 생산': ['한전산업', '한전KPS', '지역난방공사', '대성에너지', '한진중공업홀딩스'], '전기 배급': ['한전산업', '한전KPS', '지역난방공사', '대성에너지', '한진중공업홀딩스'], '가스 제조': ['E1', '한국가스공사', '인천도시가스', 'SK가스', '지에스이', '대성에너지', '한진중공업홀딩스', '삼천리', '경동도시가스', '대성홀딩스'], '복합 공익 사업체': ['삼천리'], '독립 전력 생산': ['지역난방공사', '한전KPS'], '에너지 거래': ['한전산업', '한전KPS', '한국가스공사', 'SK가스', '지역난방공사', '대성에너지', '삼천리'], '유틸리티': ['한전기술']}\n"
     ]
    }
   ],
   "source": [
    "# CSV 파일을 읽는다\n",
    "df = pd.read_csv(\"에너지_소분류_기업들.csv\", encoding='cp949')\n",
    "\n",
    "# DataFrame을 딕셔너리로 변환한다\n",
    "small_dict = {}\n",
    "for column in df.columns:\n",
    "    # NaN 값은 무시한다\n",
    "    small_dict[column] = df[column].dropna().tolist()\n",
    "\n",
    "print(small_dict)"
   ]
  },
  {
   "cell_type": "code",
   "execution_count": 33,
   "metadata": {},
   "outputs": [],
   "source": [
    "mid_class = {\n",
    "    '에너지 장비 및 서비스' : ['에너지 장비'],\n",
    "    '석유와 가스' : ['종합 석유 및 가스', '석유와 가스 탐사 및 생산', '석유와 가스 정제 및 마케팅', '석유와 가스 저장 및 수송', '석탄 및 소모 연료'],\n",
    "    '에너지' : ['에너지'],\n",
    "    '전기유틸리티' : ['전기 생산', '전기 배급'],\n",
    "    '가스유틸리티' : ['가스 제조', '가스 배급'],\n",
    "    '복합유틸리티' : ['복합 공익 사업체'],\n",
    "    '독립 전력 생산 및 에너지 거래' : ['독립 전력 생산', '에너지 거래'],\n",
    "    '유틸리티' : ['유틸리티']\n",
    "}"
   ]
  },
  {
   "cell_type": "code",
   "execution_count": 34,
   "metadata": {},
   "outputs": [],
   "source": [
    "# 소분류 -> 중분류\n",
    "new_classification_companies = {}\n",
    "\n",
    "for new_category, old_categories in mid_class.items():\n",
    "    new_classification_companies[new_category] = []\n",
    "    \n",
    "    for old_category in old_categories:\n",
    "        if old_category in small_dict:\n",
    "            new_classification_companies[new_category].extend(small_dict[old_category])\n",
    "            \n",
    "    # 중복된 기업명 제거\n",
    "    new_classification_companies[new_category] = list(set(new_classification_companies[new_category]))\n",
    "\n",
    "# 새로운 분류로 DataFrame을 생성하고 CSV로 저장한다\n",
    "df_new_classified = pd.DataFrame.from_dict(new_classification_companies, orient='index').transpose()\n",
    "df_new_classified.to_csv('에너지_중분류_기업들.csv', index=False, encoding='cp949')"
   ]
  },
  {
   "cell_type": "markdown",
   "metadata": {},
   "source": [
    "# 중분류 -> 대분류"
   ]
  },
  {
   "cell_type": "code",
   "execution_count": 36,
   "metadata": {},
   "outputs": [],
   "source": [
    "big_class = {\n",
    "    '에너지' : ['에너지 장비 및 서비스', '석유와 가스', '에너지', '유틸리티', '전기유틸리티', '가스유틸리티', '복합유틸리티', '독립 전력 생산 및 에너지 거래']\n",
    "}"
   ]
  },
  {
   "cell_type": "code",
   "execution_count": 37,
   "metadata": {},
   "outputs": [
    {
     "name": "stdout",
     "output_type": "stream",
     "text": [
      "{'에너지 장비 및 서비스': ['스페코', '에스에너지', 'HD현대에너지솔루션', '수산인더스트리'], '석유와 가스': ['오르비텍', '중앙에너비스', '유니슨', 'S-Oil', 'HD현대', 'DGP', 'SGC에너지', '한국쉘석유', '대성산업', '극동유화', 'HD현대에너지솔루션', '제이씨케미칼', 'SK이노베이션', '흥구석유', '태웅', '서남', 'GS', '씨에스윈드', 'SK디스커버리', '에코바이오'], '에너지': ['윌링스', '중앙에너비스', '바이온', 'SDN', '금양그린파워', 'DGP', 'SGC에너지', '한국쉘석유', '에스아이리소스', '대성산업', '파루', '대명에너지', '제이씨케미칼', '비에이치아이', '이아이디', 'SK이노베이션', 'GS', '스페코', '에스에너지', '에코바이오', '수산인더스트리', '지오릿에너지'], '전기유틸리티': ['한전산업', '한전KPS', '지역난방공사', '대성에너지', '한진중공업홀딩스'], '가스유틸리티': ['E1', '한국가스공사', '인천도시가스', '지에스이', 'SK가스', '대성에너지', '한진중공업홀딩스', '삼천리', '경동도시가스', '대성홀딩스'], '복합유틸리티': ['삼천리'], '독립 전력 생산 및 에너지 거래': ['한전KPS', '한전산업', '한국가스공사', 'SK가스', '지역난방공사', '대성에너지', '삼천리'], '유틸리티': ['한전기술']}\n"
     ]
    }
   ],
   "source": [
    "# CSV 파일을 읽는다\n",
    "df = pd.read_csv(\"에너지_중분류_기업들.csv\", encoding='cp949')\n",
    "\n",
    "# DataFrame을 딕셔너리로 변환한다\n",
    "mid_dict = {}\n",
    "for column in df.columns:\n",
    "    # NaN 값은 무시한다\n",
    "    mid_dict[column] = df[column].dropna().tolist()\n",
    "\n",
    "print(mid_dict)"
   ]
  },
  {
   "cell_type": "code",
   "execution_count": 38,
   "metadata": {},
   "outputs": [],
   "source": [
    "# 중분류 -> 대분류\n",
    "new_classification_companies = {}\n",
    "\n",
    "for new_category, old_categories in big_class.items():\n",
    "    new_classification_companies[new_category] = []\n",
    "    \n",
    "    for old_category in old_categories:\n",
    "        if old_category in mid_dict:\n",
    "            new_classification_companies[new_category].extend(mid_dict[old_category])\n",
    "            \n",
    "    # 중복된 기업명 제거\n",
    "    new_classification_companies[new_category] = list(set(new_classification_companies[new_category]))\n",
    "\n",
    "# 새로운 분류로 DataFrame을 생성하고 CSV로 저장한다\n",
    "df_new_classified = pd.DataFrame.from_dict(new_classification_companies, orient='index').transpose()\n",
    "df_new_classified.to_csv('에너지_대분류_기업들.csv', index=False, encoding='cp949')"
   ]
  },
  {
   "cell_type": "code",
   "execution_count": 39,
   "metadata": {},
   "outputs": [
    {
     "name": "stdout",
     "output_type": "stream",
     "text": [
      "{'에너지': ['윌링스', '한전산업', '오르비텍', '중앙에너비스', '대성에너지', '유니슨', '한진중공업홀딩스', '바이온', 'SDN', 'S-Oil', '금양그린파워', '지오릿에너지', '한전기술', 'E1', 'HD현대', 'DGP', 'SGC에너지', '한국쉘석유', '지에스이', '에스아이리소스', '대성산업', '극동유화', '파루', '대명에너지', 'HD현대에너지솔루션', '제이씨케미칼', '비에이치아이', '이아이디', '한국가스공사', 'SK이노베이션', '흥구석유', 'SK가스', '태웅', '지역난방공사', '경동도시가스', '서남', '대성홀딩스', 'GS', '한전KPS', '씨에스윈드', '에스에너지', '스페코', 'SK디스커버리', '인천도시가스', '에코바이오', '삼천리', '수산인더스트리']}\n"
     ]
    }
   ],
   "source": [
    "# CSV 파일을 읽는다\n",
    "df = pd.read_csv(\"에너지_대분류_기업들.csv\", encoding='cp949')\n",
    "\n",
    "# DataFrame을 딕셔너리로 변환한다\n",
    "big_dict = {}\n",
    "for column in df.columns:\n",
    "    # NaN 값은 무시한다\n",
    "    big_dict[column] = df[column].dropna().tolist()\n",
    "\n",
    "print(big_dict)"
   ]
  }
 ],
 "metadata": {
  "kernelspec": {
   "display_name": "base",
   "language": "python",
   "name": "python3"
  },
  "language_info": {
   "codemirror_mode": {
    "name": "ipython",
    "version": 3
   },
   "file_extension": ".py",
   "mimetype": "text/x-python",
   "name": "python",
   "nbconvert_exporter": "python",
   "pygments_lexer": "ipython3",
   "version": "3.10.9"
  },
  "orig_nbformat": 4
 },
 "nbformat": 4,
 "nbformat_minor": 2
}
