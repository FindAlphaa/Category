{
 "cells": [
  {
   "cell_type": "markdown",
   "metadata": {},
   "source": [
    "# description과 리프노드분류로 분류한 정보가 있는 파일 "
   ]
  },
  {
   "cell_type": "code",
   "execution_count": 1,
   "metadata": {},
   "outputs": [
    {
     "data": {
      "text/plain": [
       "{'전기 생산': ['대성에너지', '지역난방공사', '한진중공업홀딩스', '한전산업', '한전KPS'],\n",
       " '전기 배급': ['대성에너지', '지역난방공사', '한진중공업홀딩스', '한전산업', '한전KPS'],\n",
       " '가스 제조': ['대성에너지',\n",
       "  'SK가스',\n",
       "  'E1',\n",
       "  '한진중공업홀딩스',\n",
       "  '대성홀딩스',\n",
       "  '인천도시가스',\n",
       "  '경동도시가스',\n",
       "  '삼천리',\n",
       "  '한국가스공사',\n",
       "  '지에스이'],\n",
       " '가스 배급': ['대성에너지',\n",
       "  'SK가스',\n",
       "  'E1',\n",
       "  '한진중공업홀딩스',\n",
       "  '대성홀딩스',\n",
       "  '인천도시가스',\n",
       "  '경동도시가스',\n",
       "  '삼천리',\n",
       "  '한국가스공사',\n",
       "  '지에스이'],\n",
       " '에너지 거래': ['대성에너지', 'SK가스', '지역난방공사', '삼천리', '한전산업', '한전KPS', '한국가스공사'],\n",
       " '독립 전력 생산': ['지역난방공사', '한전KPS'],\n",
       " '유틸리티': ['한전기술'],\n",
       " '복합 공익 사업체': ['삼천리']}"
      ]
     },
     "execution_count": 1,
     "metadata": {},
     "output_type": "execute_result"
    }
   ],
   "source": [
    "import pandas as pd\n",
    "data = pd.read_csv(\"유틸리티_개요_리프.csv\", encoding='cp949')\n",
    "\n",
    "# 새로운 딕셔너리 생성\n",
    "new_classification_dict = {}\n",
    "\n",
    "for _, row in data.iterrows():\n",
    "    # 각 sub_classfication 값을 쉼표로 분리\n",
    "    for category in row['sub_classfication'].split(', '):\n",
    "        companies = new_classification_dict.get(category, [])\n",
    "        if row['Company'] not in companies:\n",
    "            companies.append(row['Company'])\n",
    "        new_classification_dict[category] = companies\n",
    "\n",
    "new_classification_dict"
   ]
  },
  {
   "cell_type": "markdown",
   "metadata": {},
   "source": [
    "# 리프노드_기업들로 csv 파일 저장코드"
   ]
  },
  {
   "cell_type": "code",
   "execution_count": 2,
   "metadata": {},
   "outputs": [
    {
     "data": {
      "text/plain": [
       "'유틸리티_리프노드_기업들.csv'"
      ]
     },
     "execution_count": 2,
     "metadata": {},
     "output_type": "execute_result"
    }
   ],
   "source": [
    "# 딕셔너리를 데이터프레임으로 변환\n",
    "classification_df = pd.DataFrame(dict([(k, pd.Series(v)) for k, v in new_classification_dict.items()]))\n",
    "\n",
    "# 데이터프레임을 CSV 파일로 저장\n",
    "classification_csv_path = '유틸리티_리프노드_기업들.csv'\n",
    "classification_df.to_csv(classification_csv_path, encoding='cp949', index=False)\n",
    "\n",
    "classification_csv_path"
   ]
  },
  {
   "cell_type": "markdown",
   "metadata": {},
   "source": [
    "# 리프(소)분류 -> 중분류"
   ]
  },
  {
   "cell_type": "code",
   "execution_count": 4,
   "metadata": {},
   "outputs": [
    {
     "name": "stdout",
     "output_type": "stream",
     "text": [
      "{'전기 생산': ['대성에너지', '지역난방공사', '한진중공업홀딩스', '한전산업', '한전KPS'], '전기 배급': ['대성에너지', '지역난방공사', '한진중공업홀딩스', '한전산업', '한전KPS'], '가스 제조': ['대성에너지', 'SK가스', 'E1', '한진중공업홀딩스', '대성홀딩스', '인천도시가스', '경동도시가스', '삼천리', '한국가스공사', '지에스이'], '가스 배급': ['대성에너지', 'SK가스', 'E1', '한진중공업홀딩스', '대성홀딩스', '인천도시가스', '경동도시가스', '삼천리', '한국가스공사', '지에스이'], '에너지 거래': ['대성에너지', 'SK가스', '지역난방공사', '삼천리', '한전산업', '한전KPS', '한국가스공사'], '독립 전력 생산': ['지역난방공사', '한전KPS'], '유틸리티': ['한전기술'], '복합 공익 사업체': ['삼천리']}\n"
     ]
    }
   ],
   "source": [
    "# CSV 파일을 읽는다\n",
    "df = pd.read_csv(\"유틸리티_리프노드_기업들.csv\", encoding='cp949')\n",
    "\n",
    "# DataFrame을 딕셔너리로 변환한다\n",
    "small_dict = {}\n",
    "for column in df.columns:\n",
    "    # NaN 값은 무시한다\n",
    "    small_dict[column] = df[column].dropna().tolist()\n",
    "\n",
    "print(small_dict)"
   ]
  },
  {
   "cell_type": "code",
   "execution_count": 6,
   "metadata": {},
   "outputs": [],
   "source": [
    "mid_class = {\n",
    "    '전기유틸리티' : ['전기 생산', '전기 배급'],\n",
    "    '가스유틸리티' : ['가스 제조', '가스 배급'],\n",
    "    '복합유틸리티' : ['복합 공익 사업체'],\n",
    "    '독립 전력 생산 및 에너지 거래' : ['독립 전력 생산', '에너지 거래'],\n",
    "    '유틸리티' : ['유틸리티']\n",
    "}"
   ]
  },
  {
   "cell_type": "code",
   "execution_count": 7,
   "metadata": {},
   "outputs": [],
   "source": [
    "# 소분류 -> 중분류\n",
    "new_classification_companies = {}\n",
    "\n",
    "for new_category, old_categories in mid_class.items():\n",
    "    new_classification_companies[new_category] = []\n",
    "    \n",
    "    for old_category in old_categories:\n",
    "        if old_category in small_dict:\n",
    "            new_classification_companies[new_category].extend(small_dict[old_category])\n",
    "            \n",
    "    # 중복된 기업명 제거\n",
    "    new_classification_companies[new_category] = list(set(new_classification_companies[new_category]))\n",
    "\n",
    "# 새로운 분류로 DataFrame을 생성하고 CSV로 저장한다\n",
    "df_new_classified = pd.DataFrame.from_dict(new_classification_companies, orient='index').transpose()\n",
    "df_new_classified.to_csv('유틸리티_중분류_기업들.csv', index=False, encoding='cp949')"
   ]
  },
  {
   "cell_type": "markdown",
   "metadata": {},
   "source": [
    "# 중분류 -> 대분류"
   ]
  },
  {
   "cell_type": "code",
   "execution_count": 8,
   "metadata": {},
   "outputs": [],
   "source": [
    "big_class = {\n",
    "    '유틸리티' : ['유틸리티', '전기유틸리티', '가스유틸리티', '복합유틸리티', '독립 전력 생산 및 에너지 거래']\n",
    "}"
   ]
  },
  {
   "cell_type": "code",
   "execution_count": 9,
   "metadata": {},
   "outputs": [
    {
     "name": "stdout",
     "output_type": "stream",
     "text": [
      "{'전기유틸리티': ['대성에너지', '한진중공업홀딩스', '한전KPS', '한전산업', '지역난방공사'], '가스유틸리티': ['대성에너지', '경동도시가스', '한진중공업홀딩스', 'SK가스', '한국가스공사', 'E1', '인천도시가스', '삼천리', '대성홀딩스', '지에스이'], '복합유틸리티': ['삼천리'], '독립 전력 생산 및 에너지 거래': ['대성에너지', 'SK가스', '한전KPS', '한국가스공사', '삼천리', '한전산업', '지역난방공사'], '유틸리티': ['한전기술']}\n"
     ]
    }
   ],
   "source": [
    "# CSV 파일을 읽는다\n",
    "df = pd.read_csv(\"유틸리티_중분류_기업들.csv\", encoding='cp949')\n",
    "\n",
    "# DataFrame을 딕셔너리로 변환한다\n",
    "mid_dict = {}\n",
    "for column in df.columns:\n",
    "    # NaN 값은 무시한다\n",
    "    mid_dict[column] = df[column].dropna().tolist()\n",
    "\n",
    "print(mid_dict)"
   ]
  },
  {
   "cell_type": "code",
   "execution_count": 10,
   "metadata": {},
   "outputs": [],
   "source": [
    "# 중분류 -> 대분류\n",
    "new_classification_companies = {}\n",
    "\n",
    "for new_category, old_categories in big_class.items():\n",
    "    new_classification_companies[new_category] = []\n",
    "    \n",
    "    for old_category in old_categories:\n",
    "        if old_category in mid_dict:\n",
    "            new_classification_companies[new_category].extend(mid_dict[old_category])\n",
    "            \n",
    "    # 중복된 기업명 제거\n",
    "    new_classification_companies[new_category] = list(set(new_classification_companies[new_category]))\n",
    "\n",
    "# 새로운 분류로 DataFrame을 생성하고 CSV로 저장한다\n",
    "df_new_classified = pd.DataFrame.from_dict(new_classification_companies, orient='index').transpose()\n",
    "df_new_classified.to_csv('유틸리티_대분류_기업들.csv', index=False, encoding='cp949')"
   ]
  },
  {
   "cell_type": "code",
   "execution_count": 11,
   "metadata": {},
   "outputs": [
    {
     "name": "stdout",
     "output_type": "stream",
     "text": [
      "{'유틸리티': ['대성에너지', '경동도시가스', '한진중공업홀딩스', 'SK가스', '한전KPS', '한국가스공사', 'E1', '한전기술', '인천도시가스', '삼천리', '대성홀딩스', '한전산업', '지에스이', '지역난방공사']}\n"
     ]
    }
   ],
   "source": [
    "# CSV 파일을 읽는다\n",
    "df = pd.read_csv(\"유틸리티_대분류_기업들.csv\", encoding='cp949')\n",
    "\n",
    "# DataFrame을 딕셔너리로 변환한다\n",
    "big_dict = {}\n",
    "for column in df.columns:\n",
    "    # NaN 값은 무시한다\n",
    "    big_dict[column] = df[column].dropna().tolist()\n",
    "\n",
    "print(big_dict)"
   ]
  }
 ],
 "metadata": {
  "kernelspec": {
   "display_name": "base",
   "language": "python",
   "name": "python3"
  },
  "language_info": {
   "codemirror_mode": {
    "name": "ipython",
    "version": 3
   },
   "file_extension": ".py",
   "mimetype": "text/x-python",
   "name": "python",
   "nbconvert_exporter": "python",
   "pygments_lexer": "ipython3",
   "version": "3.10.9"
  },
  "orig_nbformat": 4
 },
 "nbformat": 4,
 "nbformat_minor": 2
}
