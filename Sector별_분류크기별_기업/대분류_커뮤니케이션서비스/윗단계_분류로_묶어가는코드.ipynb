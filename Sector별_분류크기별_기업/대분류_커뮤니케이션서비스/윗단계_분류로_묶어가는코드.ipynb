{
 "cells": [
  {
   "cell_type": "markdown",
   "metadata": {},
   "source": [
    "# description과 리프노드분류로 분류한 정보가 있는 파일 "
   ]
  },
  {
   "cell_type": "code",
   "execution_count": 3,
   "metadata": {},
   "outputs": [
    {
     "data": {
      "text/plain": [
       "{'방송과 케이블 TV': ['LG헬로비전',\n",
       "  '갤럭시아에스엠',\n",
       "  '씨씨에스',\n",
       "  '애니플러스',\n",
       "  '에이스토리',\n",
       "  '초록뱀컴퍼니',\n",
       "  '코퍼스코리아',\n",
       "  '한국경제TV',\n",
       "  'CJ CGV',\n",
       "  'iMBC',\n",
       "  '삼화네트웍스',\n",
       "  '아이오케이',\n",
       "  '팬엔터테인먼트',\n",
       "  'SBS',\n",
       "  '제일기획',\n",
       "  '콘텐트리중앙',\n",
       "  '티와이홀딩스',\n",
       "  'CJ ENM',\n",
       "  'KX',\n",
       "  'NEW',\n",
       "  '스카이문스테크놀로지',\n",
       "  '알비더블유',\n",
       "  '자이언트스텝',\n",
       "  '캐리소프트',\n",
       "  '티비씨',\n",
       "  'NHN벅스',\n",
       "  '위지윅스튜디오',\n",
       "  'SAMG엔터',\n",
       "  'SBS콘텐츠허브',\n",
       "  'YTN',\n",
       "  '대원미디어',\n",
       "  '바른손이앤에이',\n",
       "  '스튜디오미르',\n",
       "  '초록뱀미디어',\n",
       "  '포바이포',\n",
       "  'KNN',\n",
       "  '아프리카TV',\n",
       "  '탑코미디어',\n",
       "  '아센디오',\n",
       "  'SM C&C',\n",
       "  'THE E&M',\n",
       "  '덱스터',\n",
       "  '래몽래인',\n",
       "  '쇼박스',\n",
       "  '스튜디오드래곤',\n",
       "  '초록뱀이앤엠',\n",
       "  '키이스트'],\n",
       " '광고': ['갤럭시아에스엠',\n",
       "  '아시아경제',\n",
       "  '에스엠',\n",
       "  '엠게임',\n",
       "  '이엠넷',\n",
       "  '한국경제TV',\n",
       "  'iMBC',\n",
       "  '에코마케팅',\n",
       "  '플레이디',\n",
       "  'SBS',\n",
       "  'YG PLUS',\n",
       "  '이노션',\n",
       "  '제일기획',\n",
       "  '콘텐트리중앙',\n",
       "  '자이언트스텝',\n",
       "  '티비씨',\n",
       "  '모비데이즈',\n",
       "  '카카오',\n",
       "  'SBS콘텐츠허브',\n",
       "  'YTN',\n",
       "  '줌인터넷',\n",
       "  '포바이포',\n",
       "  '네오위즈',\n",
       "  '엔비티',\n",
       "  '와이즈버즈',\n",
       "  'KNN',\n",
       "  '모비릭스',\n",
       "  '아프리카TV',\n",
       "  '오리콤',\n",
       "  '인크로스',\n",
       "  'HS애드',\n",
       "  'NAVER',\n",
       "  'SM C&C',\n",
       "  '나스미디어',\n",
       "  '덱스터',\n",
       "  '썸에이지',\n",
       "  '엔피',\n",
       "  '와이지엔터테인먼트'],\n",
       " '온라인 게임': ['더블유게임즈',\n",
       "  '룽투코리아',\n",
       "  '에이스토리',\n",
       "  '엠게임',\n",
       "  '엔씨소프트',\n",
       "  '크래프톤',\n",
       "  '네오위즈홀딩스',\n",
       "  '위메이드',\n",
       "  '조이시티',\n",
       "  '카카오게임즈',\n",
       "  '한빛소프트',\n",
       "  '밸로프',\n",
       "  '스카이문스테크놀로지',\n",
       "  '위메이드맥스',\n",
       "  '캐리소프트',\n",
       "  '컴투스',\n",
       "  '티쓰리',\n",
       "  '넥슨게임즈',\n",
       "  '모비데이즈',\n",
       "  '액션스퀘어',\n",
       "  '펄어비스',\n",
       "  '카카오',\n",
       "  'SAMG엔터',\n",
       "  '대원미디어',\n",
       "  '미스터블루',\n",
       "  '바른손이앤에이',\n",
       "  '위메이드플레이',\n",
       "  '네오위즈',\n",
       "  '웹젠',\n",
       "  '플레이위드',\n",
       "  '모비릭스',\n",
       "  '미투온',\n",
       "  '액토즈소프트',\n",
       "  '넷마블',\n",
       "  '하이브',\n",
       "  '넵튠',\n",
       "  '데브시스터즈',\n",
       "  '드래곤플라이',\n",
       "  '썸에이지',\n",
       "  '컴투스홀딩스'],\n",
       " '통합 전기통신 서비스': ['키다리스튜디오', '이엠넷', '삼화네트웍스', '스카이문스테크놀로지', 'SBS콘텐츠허브', '미투온'],\n",
       " '커뮤니케이션': ['디지틀조선',\n",
       "  '메쎄이상',\n",
       "  '핑거스토리',\n",
       "  '지니뮤직',\n",
       "  '인스코비',\n",
       "  '드림어스컴퍼니',\n",
       "  'FSN',\n",
       "  '티사이언티픽',\n",
       "  '플리토'],\n",
       " '양방향 미디어와 서비스': ['아시아경제',\n",
       "  '에코마케팅',\n",
       "  'SBS',\n",
       "  '티와이홀딩스',\n",
       "  '자이언트스텝',\n",
       "  '컴투스',\n",
       "  '모비데이즈',\n",
       "  '위지윅스튜디오',\n",
       "  'SBS콘텐츠허브',\n",
       "  '미스터블루',\n",
       "  '초록뱀미디어',\n",
       "  '포바이포',\n",
       "  'LG유플러스',\n",
       "  '에프엔씨엔터',\n",
       "  '아프리카TV',\n",
       "  '인크로스',\n",
       "  'SM Life Design',\n",
       "  'THE E&M',\n",
       "  '나스미디어',\n",
       "  '스튜디오드래곤',\n",
       "  '키이스트'],\n",
       " '영화와 엔터테인먼트': ['애니플러스',\n",
       "  '에스엠',\n",
       "  '에이스토리',\n",
       "  '코퍼스코리아',\n",
       "  'CJ CGV',\n",
       "  '삼화네트웍스',\n",
       "  '아이오케이',\n",
       "  '팬엔터테인먼트',\n",
       "  'YG PLUS',\n",
       "  '제일기획',\n",
       "  '콘텐트리중앙',\n",
       "  'NEW',\n",
       "  '알비더블유',\n",
       "  '자이언트스텝',\n",
       "  '캐리소프트',\n",
       "  '컴투스',\n",
       "  '디어유',\n",
       "  '위지윅스튜디오',\n",
       "  '카카오',\n",
       "  'SAMG엔터',\n",
       "  'SBS콘텐츠허브',\n",
       "  'YTN',\n",
       "  '대원미디어',\n",
       "  '바른손이앤에이',\n",
       "  '스튜디오미르',\n",
       "  '초록뱀미디어',\n",
       "  '포바이포',\n",
       "  'JYP Ent.',\n",
       "  '에프엔씨엔터',\n",
       "  '아센디오',\n",
       "  '하이브',\n",
       "  'SM Life Design',\n",
       "  'THE E&M',\n",
       "  '덱스터',\n",
       "  '래몽래인',\n",
       "  '쇼박스',\n",
       "  '스튜디오드래곤',\n",
       "  '스튜디오산타클로스',\n",
       "  '와이지엔터테인먼트',\n",
       "  '초록뱀이앤엠',\n",
       "  '키이스트'],\n",
       " '출판': ['에스엠',\n",
       "  '예림당',\n",
       "  '제일기획',\n",
       "  '디앤씨미디어',\n",
       "  '알비더블유',\n",
       "  '티비씨',\n",
       "  '미스터블루',\n",
       "  'JYP Ent.',\n",
       "  '웅진',\n",
       "  '오리콤',\n",
       "  '하이브',\n",
       "  'SM Life Design',\n",
       "  '스튜디오산타클로스',\n",
       "  '와이지엔터테인먼트'],\n",
       " '무선 전기통신 서비스': ['예림당', '스카이문스테크놀로지', 'SK텔레콤', '와이어블', '세종텔레콤']}"
      ]
     },
     "execution_count": 3,
     "metadata": {},
     "output_type": "execute_result"
    }
   ],
   "source": [
    "import pandas as pd\n",
    "data = pd.read_csv(\"커뮤니케이션서비스_개요_리프.csv\", encoding='cp949')\n",
    "\n",
    "# 새로운 딕셔너리 생성\n",
    "new_classification_dict = {}\n",
    "\n",
    "for _, row in data.iterrows():\n",
    "    # 각 sub_classfication 값을 쉼표로 분리\n",
    "    for category in row['sub_classfication'].split(', '):\n",
    "        companies = new_classification_dict.get(category, [])\n",
    "        if row['Company'] not in companies:\n",
    "            companies.append(row['Company'])\n",
    "        new_classification_dict[category] = companies\n",
    "\n",
    "new_classification_dict"
   ]
  },
  {
   "cell_type": "markdown",
   "metadata": {},
   "source": [
    "# 리프노드_기업들로 csv 파일 저장코드"
   ]
  },
  {
   "cell_type": "code",
   "execution_count": 4,
   "metadata": {},
   "outputs": [
    {
     "data": {
      "text/plain": [
       "'커뮤니케이션_리프노드_기업들.csv'"
      ]
     },
     "execution_count": 4,
     "metadata": {},
     "output_type": "execute_result"
    }
   ],
   "source": [
    "# 딕셔너리를 데이터프레임으로 변환\n",
    "classification_df = pd.DataFrame(dict([(k, pd.Series(v)) for k, v in new_classification_dict.items()]))\n",
    "\n",
    "# 데이터프레임을 CSV 파일로 저장\n",
    "classification_csv_path = '커뮤니케이션_리프노드_기업들.csv'\n",
    "classification_df.to_csv(classification_csv_path, encoding='cp949', index=False)\n",
    "\n",
    "classification_csv_path"
   ]
  },
  {
   "cell_type": "markdown",
   "metadata": {},
   "source": [
    "# 리프노드 -> 소분류"
   ]
  },
  {
   "cell_type": "code",
   "execution_count": 5,
   "metadata": {},
   "outputs": [
    {
     "name": "stdout",
     "output_type": "stream",
     "text": [
      "{'방송과 케이블 TV': ['LG헬로비전', '갤럭시아에스엠', '씨씨에스', '애니플러스', '에이스토리', '초록뱀컴퍼니', '코퍼스코리아', '한국경제TV', 'CJ CGV', 'iMBC', '삼화네트웍스', '아이오케이', '팬엔터테인먼트', 'SBS', '제일기획', '콘텐트리중앙', '티와이홀딩스', 'CJ ENM', 'KX', 'NEW', '스카이문스테크놀로지', '알비더블유', '자이언트스텝', '캐리소프트', '티비씨', 'NHN벅스', '위지윅스튜디오', 'SAMG엔터', 'SBS콘텐츠허브', 'YTN', '대원미디어', '바른손이앤에이', '스튜디오미르', '초록뱀미디어', '포바이포', 'KNN', '아프리카TV', '탑코미디어', '아센디오', 'SM C&C', 'THE E&M', '덱스터', '래몽래인', '쇼박스', '스튜디오드래곤', '초록뱀이앤엠', '키이스트'], '광고': ['갤럭시아에스엠', '아시아경제', '에스엠', '엠게임', '이엠넷', '한국경제TV', 'iMBC', '에코마케팅', '플레이디', 'SBS', 'YG PLUS', '이노션', '제일기획', '콘텐트리중앙', '자이언트스텝', '티비씨', '모비데이즈', '카카오', 'SBS콘텐츠허브', 'YTN', '줌인터넷', '포바이포', '네오위즈', '엔비티', '와이즈버즈', 'KNN', '모비릭스', '아프리카TV', '오리콤', '인크로스', 'HS애드', 'NAVER', 'SM C&C', '나스미디어', '덱스터', '썸에이지', '엔피', '와이지엔터테인먼트'], '온라인 게임': ['더블유게임즈', '룽투코리아', '에이스토리', '엠게임', '엔씨소프트', '크래프톤', '네오위즈홀딩스', '위메이드', '조이시티', '카카오게임즈', '한빛소프트', '밸로프', '스카이문스테크놀로지', '위메이드맥스', '캐리소프트', '컴투스', '티쓰리', '넥슨게임즈', '모비데이즈', '액션스퀘어', '펄어비스', '카카오', 'SAMG엔터', '대원미디어', '미스터블루', '바른손이앤에이', '위메이드플레이', '네오위즈', '웹젠', '플레이위드', '모비릭스', '미투온', '액토즈소프트', '넷마블', '하이브', '넵튠', '데브시스터즈', '드래곤플라이', '썸에이지', '컴투스홀딩스'], '통합 전기통신 서비스': ['키다리스튜디오', '이엠넷', '삼화네트웍스', '스카이문스테크놀로지', 'SBS콘텐츠허브', '미투온'], '커뮤니케이션': ['디지틀조선', '메쎄이상', '핑거스토리', '지니뮤직', '인스코비', '드림어스컴퍼니', 'FSN', '티사이언티픽', '플리토'], '양방향 미디어와 서비스': ['아시아경제', '에코마케팅', 'SBS', '티와이홀딩스', '자이언트스텝', '컴투스', '모비데이즈', '위지윅스튜디오', 'SBS콘텐츠허브', '미스터블루', '초록뱀미디어', '포바이포', 'LG유플러스', '에프엔씨엔터', '아프리카TV', '인크로스', 'SM Life Design', 'THE E&M', '나스미디어', '스튜디오드래곤', '키이스트'], '영화와 엔터테인먼트': ['애니플러스', '에스엠', '에이스토리', '코퍼스코리아', 'CJ CGV', '삼화네트웍스', '아이오케이', '팬엔터테인먼트', 'YG PLUS', '제일기획', '콘텐트리중앙', 'NEW', '알비더블유', '자이언트스텝', '캐리소프트', '컴투스', '디어유', '위지윅스튜디오', '카카오', 'SAMG엔터', 'SBS콘텐츠허브', 'YTN', '대원미디어', '바른손이앤에이', '스튜디오미르', '초록뱀미디어', '포바이포', 'JYP Ent.', '에프엔씨엔터', '아센디오', '하이브', 'SM Life Design', 'THE E&M', '덱스터', '래몽래인', '쇼박스', '스튜디오드래곤', '스튜디오산타클로스', '와이지엔터테인먼트', '초록뱀이앤엠', '키이스트'], '출판': ['에스엠', '예림당', '제일기획', '디앤씨미디어', '알비더블유', '티비씨', '미스터블루', 'JYP Ent.', '웅진', '오리콤', '하이브', 'SM Life Design', '스튜디오산타클로스', '와이지엔터테인먼트'], '무선 전기통신 서비스': ['예림당', '스카이문스테크놀로지', 'SK텔레콤', '와이어블', '세종텔레콤']}\n"
     ]
    }
   ],
   "source": [
    "# 소소분류 기업들\n",
    "import pandas as pd\n",
    "\n",
    "# CSV 파일을 읽는다\n",
    "df = pd.read_csv(\"커뮤니케이션_리프노드_기업들.csv\", encoding='cp949')\n",
    "\n",
    "# DataFrame을 딕셔너리로 변환한다\n",
    "result_dict = {}\n",
    "for column in df.columns:\n",
    "    # NaN 값은 무시한다\n",
    "    result_dict[column] = df[column].dropna().tolist()\n",
    "\n",
    "print(result_dict)\n"
   ]
  },
  {
   "cell_type": "code",
   "execution_count": 6,
   "metadata": {},
   "outputs": [],
   "source": [
    "classification = {\n",
    "    '다각화된 통신서비스': ['대안 통신업체', '통합 전기통신 서비스'],\n",
    "    '무선통신서비스': ['무선 전기통신 서비스'],\n",
    "    '광고': ['광고'],\n",
    "    '방송과 엔터테인먼트': ['방송과 케이블 TV', '영화와 엔터테인먼트'],\n",
    "    '출판': ['출판'],\n",
    "    '게임엔터테인먼트': ['홈 엔터테인먼트', '온라인 게임'],\n",
    "    '양방향 미디어와 서비스': ['양방향 미디어와 서비스'],\n",
    "    '커뮤니케이션' : ['커뮤니케이션']\n",
    "}"
   ]
  },
  {
   "cell_type": "code",
   "execution_count": 7,
   "metadata": {},
   "outputs": [],
   "source": [
    "# 소소분류 -> 소분류\n",
    "new_classification_companies = {}\n",
    "\n",
    "for new_category, old_categories in classification.items():\n",
    "    new_classification_companies[new_category] = []\n",
    "    \n",
    "    for old_category in old_categories:\n",
    "        if old_category in result_dict:\n",
    "            new_classification_companies[new_category].extend(result_dict[old_category])\n",
    "            \n",
    "    # 중복된 기업명 제거\n",
    "    new_classification_companies[new_category] = list(set(new_classification_companies[new_category]))\n",
    "\n",
    "# 새로운 분류로 DataFrame을 생성하고 CSV로 저장한다\n",
    "df_new_classified = pd.DataFrame.from_dict(new_classification_companies, orient='index').transpose()\n",
    "df_new_classified.to_csv('커뮤니케이션_소분류_기업들.csv', index=False, encoding='cp949')\n",
    "\n"
   ]
  },
  {
   "cell_type": "markdown",
   "metadata": {},
   "source": [
    "# 소분류 -> 중분류"
   ]
  },
  {
   "cell_type": "code",
   "execution_count": 8,
   "metadata": {},
   "outputs": [
    {
     "name": "stdout",
     "output_type": "stream",
     "text": [
      "{'다각화된 통신서비스': ['스카이문스테크놀로지', '미투온', '키다리스튜디오', 'SBS콘텐츠허브', '삼화네트웍스', '이엠넷'], '무선통신서비스': ['스카이문스테크놀로지', '와이어블', '세종텔레콤', 'SK텔레콤', '예림당'], '광고': ['SM C&C', '엠게임', '네오위즈', '엔피', '이노션', '에코마케팅', '덱스터', '티비씨', '이엠넷', '한국경제TV', '인크로스', '줌인터넷', '나스미디어', '모비릭스', '모비데이즈', '와이즈버즈', '아프리카TV', 'YG PLUS', '카카오', '갤럭시아에스엠', '플레이디', 'iMBC', '에스엠', 'NAVER', 'HS애드', '제일기획', 'KNN', '자이언트스텝', '썸에이지', '오리콤', 'SBS', '콘텐트리중앙', '포바이포', '아시아경제', 'SBS콘텐츠허브', '엔비티', '와이지엔터테인먼트', 'YTN'], '방송과 엔터테인먼트': ['캐리소프트', 'KX', 'SM C&C', 'THE E&M', '덱스터', '키이스트', '티비씨', '래몽래인', '한국경제TV', '디어유', '애니플러스', '알비더블유', '하이브', '아센디오', 'NEW', 'CJ ENM', '바른손이앤에이', '스카이문스테크놀로지', 'JYP Ent.', '코퍼스코리아', '위지윅스튜디오', 'CJ CGV', '아프리카TV', 'YG PLUS', '스튜디오미르', '갤럭시아에스엠', '팬엔터테인먼트', '카카오', 'iMBC', 'LG헬로비전', '에스엠', '아이오케이', '초록뱀컴퍼니', '에프엔씨엔터', '씨씨에스', '제일기획', '스튜디오드래곤', '와이지엔터테인먼트', '티와이홀딩스', 'KNN', '삼화네트웍스', 'NHN벅스', '자이언트스텝', '스튜디오산타클로스', 'SBS', '콘텐트리중앙', '포바이포', 'SM Life Design', '탑코미디어', '쇼박스', 'SBS콘텐츠허브', '컴투스', 'SAMG엔터', '대원미디어', '초록뱀이앤엠', 'YTN', '초록뱀미디어', '에이스토리'], '출판': ['디앤씨미디어', '웅진', 'JYP Ent.', 'SM Life Design', '티비씨', '제일기획', '예림당', '하이브', '미스터블루', '오리콤', '와이지엔터테인먼트', '알비더블유', '에스엠', '스튜디오산타클로스'], '게임엔터테인먼트': ['캐리소프트', '엠게임', '네오위즈', '밸로프', '네오위즈홀딩스', '액션스퀘어', '하이브', '플레이위드', '바른손이앤에이', '스카이문스테크놀로지', '모비데이즈', '룽투코리아', '카카오', '컴투스홀딩스', '미스터블루', '위메이드', '더블유게임즈', '웹젠', '카카오게임즈', '조이시티', '넥슨게임즈', '크래프톤', '넷마블', '썸에이지', '넵튠', '드래곤플라이', '위메이드맥스', '펄어비스', '액토즈소프트', '한빛소프트', '데브시스터즈', '티쓰리', '위메이드플레이', '미투온', '엔씨소프트', '컴투스', 'SAMG엔터', '대원미디어', '모비릭스', '에이스토리'], '양방향 미디어와 서비스': ['THE E&M', '에코마케팅', '키이스트', 'LG유플러스', '인크로스', '나스미디어', '모비데이즈', '위지윅스튜디오', '아프리카TV', '미스터블루', '에프엔씨엔터', '스튜디오드래곤', '티와이홀딩스', '자이언트스텝', 'SBS', '포바이포', 'SM Life Design', '아시아경제', 'SBS콘텐츠허브', '컴투스', '초록뱀미디어'], '커뮤니케이션': ['인스코비', '핑거스토리', '드림어스컴퍼니', 'FSN', '디지틀조선', '티사이언티픽', '메쎄이상', '플리토', '지니뮤직']}\n"
     ]
    }
   ],
   "source": [
    "# CSV 파일을 읽는다\n",
    "df = pd.read_csv(\"커뮤니케이션_소분류_기업들.csv\", encoding='cp949')\n",
    "\n",
    "# DataFrame을 딕셔너리로 변환한다\n",
    "small_dict = {}\n",
    "for column in df.columns:\n",
    "    # NaN 값은 무시한다\n",
    "    small_dict[column] = df[column].dropna().tolist()\n",
    "\n",
    "print(small_dict)"
   ]
  },
  {
   "cell_type": "code",
   "execution_count": 9,
   "metadata": {},
   "outputs": [],
   "source": [
    "mid_class = {\n",
    "    '전기통신 서비스' : ['다각화된 통신서비스', '무선통신서비스'],\n",
    "    '미디어와 엔터테인먼트' : ['광고', '방송과 엔터테인먼트', '출판', '게임엔터테인먼트', '양방향 미디어와 서비스'],\n",
    "    '커뮤니케이션' : ['커뮤니케이션']\n",
    "}"
   ]
  },
  {
   "cell_type": "code",
   "execution_count": 18,
   "metadata": {},
   "outputs": [],
   "source": [
    "# 소분류 -> 중분류\n",
    "new_classification_companies = {}\n",
    "\n",
    "for new_category, old_categories in mid_class.items():\n",
    "    new_classification_companies[new_category] = []\n",
    "    \n",
    "    for old_category in old_categories:\n",
    "        if old_category in small_dict:\n",
    "            new_classification_companies[new_category].extend(small_dict[old_category])\n",
    "            \n",
    "    # 중복된 기업명 제거\n",
    "    new_classification_companies[new_category] = list(set(new_classification_companies[new_category]))\n",
    "\n",
    "# 새로운 분류로 DataFrame을 생성하고 CSV로 저장한다\n",
    "df_new_classified = pd.DataFrame.from_dict(new_classification_companies, orient='index').transpose()\n",
    "df_new_classified.to_csv('커뮤니케이션_중분류_기업들.csv', index=False, encoding='cp949')"
   ]
  },
  {
   "cell_type": "markdown",
   "metadata": {},
   "source": [
    "# 중분류 -> 대분류"
   ]
  },
  {
   "cell_type": "code",
   "execution_count": 11,
   "metadata": {},
   "outputs": [],
   "source": [
    "big_class = {\n",
    "    '커뮤니케이션서비스' : ['커뮤니케이션', '전기통신 서비스', '미디어와 엔터테인먼트']\n",
    "}"
   ]
  },
  {
   "cell_type": "code",
   "execution_count": 19,
   "metadata": {},
   "outputs": [
    {
     "name": "stdout",
     "output_type": "stream",
     "text": [
      "{'전기통신 서비스': ['스카이문스테크놀로지', '미투온', '키다리스튜디오', '와이어블', 'SBS콘텐츠허브', '삼화네트웍스', '세종텔레콤', '이엠넷', 'SK텔레콤', '예림당'], '미디어와 엔터테인먼트': ['에코마케팅', '래몽래인', '애니플러스', '네오위즈홀딩스', '알비더블유', '모비데이즈', '코퍼스코리아', '위지윅스튜디오', '카카오', '미스터블루', '더블유게임즈', '에스엠', '카카오게임즈', 'HS애드', '씨씨에스', '스튜디오드래곤', '티와이홀딩스', 'KNN', '삼화네트웍스', '넵튠', '드래곤플라이', '위메이드맥스', '탑코미디어', '엔씨소프트', '모비릭스', '초록뱀미디어', '에이스토리', '덱스터', '한국경제TV', 'LG유플러스', '줌인터넷', 'JYP Ent.', '와이즈버즈', 'YG PLUS', '디앤씨미디어', '웅진', '에프엔씨엔터', '오리콤', '액토즈소프트', '한빛소프트', '데브시스터즈', '콘텐트리중앙', 'SM Life Design', '쇼박스', 'SBS콘텐츠허브', '와이지엔터테인먼트', '넷마블', '캐리소프트', '엠게임', '엔피', '이노션', '티비씨', '밸로프', '인크로스', '아센디오', 'NEW', '바른손이앤에이', '스카이문스테크놀로지', '예림당', '갤럭시아에스엠', '팬엔터테인먼트', '컴투스홀딩스', '위메이드', '플레이디', 'iMBC', '웹젠', 'NAVER', '조이시티', '넥슨게임즈', '크래프톤', '제일기획', 'NHN벅스', '썸에이지', '펄어비스', '티쓰리', '위메이드플레이', '미투온', '엔비티', '스튜디오산타클로스', 'SM C&C', 'KX', 'THE E&M', '네오위즈', '키이스트', '이엠넷', '디어유', '액션스퀘어', '하이브', '나스미디어', '플레이위드', 'CJ ENM', '룽투코리아', 'CJ CGV', '아프리카TV', '스튜디오미르', 'LG헬로비전', '아이오케이', '초록뱀컴퍼니', '자이언트스텝', 'SBS', '포바이포', '아시아경제', '컴투스', 'SAMG엔터', '대원미디어', '초록뱀이앤엠', 'YTN'], '커뮤니케이션': ['인스코비', '핑거스토리', '드림어스컴퍼니', 'FSN', '디지틀조선', '티사이언티픽', '메쎄이상', '플리토', '지니뮤직']}\n"
     ]
    }
   ],
   "source": [
    "# CSV 파일을 읽는다\n",
    "df = pd.read_csv(\"커뮤니케이션_중분류_기업들.csv\", encoding='cp949')\n",
    "\n",
    "# DataFrame을 딕셔너리로 변환한다\n",
    "mid_dict = {}\n",
    "for column in df.columns:\n",
    "    # NaN 값은 무시한다\n",
    "    mid_dict[column] = df[column].dropna().tolist()\n",
    "\n",
    "print(mid_dict)"
   ]
  },
  {
   "cell_type": "code",
   "execution_count": 20,
   "metadata": {},
   "outputs": [],
   "source": [
    "# 중분류 -> 대분류\n",
    "new_classification_companies = {}\n",
    "\n",
    "for new_category, old_categories in big_class.items():\n",
    "    new_classification_companies[new_category] = []\n",
    "    \n",
    "    for old_category in old_categories:\n",
    "        if old_category in mid_dict:\n",
    "            new_classification_companies[new_category].extend(mid_dict[old_category])\n",
    "            \n",
    "    # 중복된 기업명 제거\n",
    "    new_classification_companies[new_category] = list(set(new_classification_companies[new_category]))\n",
    "\n",
    "# 새로운 분류로 DataFrame을 생성하고 CSV로 저장한다\n",
    "df_new_classified = pd.DataFrame.from_dict(new_classification_companies, orient='index').transpose()\n",
    "df_new_classified.to_csv('커뮤니케이션_대분류_기업들.csv', index=False, encoding='cp949')"
   ]
  },
  {
   "cell_type": "code",
   "execution_count": 21,
   "metadata": {},
   "outputs": [
    {
     "name": "stdout",
     "output_type": "stream",
     "text": [
      "{'커뮤니케이션서비스': ['에코마케팅', '래몽래인', 'FSN', '애니플러스', '네오위즈홀딩스', '알비더블유', '모비데이즈', '코퍼스코리아', '위지윅스튜디오', '카카오', '티사이언티픽', '미스터블루', '더블유게임즈', '에스엠', '카카오게임즈', 'HS애드', '핑거스토리', '씨씨에스', '스튜디오드래곤', '티와이홀딩스', 'KNN', '삼화네트웍스', '넵튠', '드래곤플라이', '위메이드맥스', '탑코미디어', '엔씨소프트', '모비릭스', '초록뱀미디어', '에이스토리', '덱스터', '드림어스컴퍼니', '한국경제TV', '디지틀조선', 'LG유플러스', '줌인터넷', 'JYP Ent.', '와이즈버즈', 'YG PLUS', '디앤씨미디어', '웅진', '에프엔씨엔터', 'SK텔레콤', '오리콤', '액토즈소프트', '한빛소프트', '데브시스터즈', '콘텐트리중앙', 'SM Life Design', '쇼박스', 'SBS콘텐츠허브', '와이지엔터테인먼트', '넷마블', '캐리소프트', '엠게임', '엔피', '이노션', '티비씨', '밸로프', '인크로스', '아센디오', 'NEW', '바른손이앤에이', '스카이문스테크놀로지', '예림당', '갤럭시아에스엠', '팬엔터테인먼트', '컴투스홀딩스', '위메이드', '플레이디', 'iMBC', '메쎄이상', '웹젠', '지니뮤직', 'NAVER', '조이시티', '넥슨게임즈', '크래프톤', '제일기획', 'NHN벅스', '썸에이지', '펄어비스', '티쓰리', '위메이드플레이', '인스코비', '미투온', '키다리스튜디오', '엔비티', '스튜디오산타클로스', 'SM C&C', 'KX', 'THE E&M', '네오위즈', '키이스트', '세종텔레콤', '이엠넷', '디어유', '액션스퀘어', '하이브', '나스미디어', '플레이위드', 'CJ ENM', '룽투코리아', 'CJ CGV', '아프리카TV', '스튜디오미르', 'LG헬로비전', '플리토', '아이오케이', '초록뱀컴퍼니', '자이언트스텝', 'SBS', '포바이포', '와이어블', '아시아경제', '컴투스', 'SAMG엔터', '대원미디어', '초록뱀이앤엠', 'YTN']}\n"
     ]
    }
   ],
   "source": [
    "# CSV 파일을 읽는다\n",
    "df = pd.read_csv(\"커뮤니케이션서비스_대분류_기업들.csv\", encoding='cp949')\n",
    "\n",
    "# DataFrame을 딕셔너리로 변환한다\n",
    "big_dict = {}\n",
    "for column in df.columns:\n",
    "    # NaN 값은 무시한다\n",
    "    big_dict[column] = df[column].dropna().tolist()\n",
    "\n",
    "print(big_dict)"
   ]
  }
 ],
 "metadata": {
  "kernelspec": {
   "display_name": "base",
   "language": "python",
   "name": "python3"
  },
  "language_info": {
   "codemirror_mode": {
    "name": "ipython",
    "version": 3
   },
   "file_extension": ".py",
   "mimetype": "text/x-python",
   "name": "python",
   "nbconvert_exporter": "python",
   "pygments_lexer": "ipython3",
   "version": "3.10.9"
  },
  "orig_nbformat": 4
 },
 "nbformat": 4,
 "nbformat_minor": 2
}
